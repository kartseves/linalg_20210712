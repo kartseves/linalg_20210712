{
 "cells": [
  {
   "cell_type": "markdown",
   "metadata": {},
   "source": [
    "# Урок 2"
   ]
  },
  {
   "cell_type": "markdown",
   "metadata": {},
   "source": [
    "# Матрицы и матричные операции. Часть 2"
   ]
  },
  {
   "cell_type": "markdown",
   "metadata": {},
   "source": [
    "### __1.__ Вычислить определитель:\n",
    "\n",
    "   a)\n",
    "\n",
    "$$\\begin{vmatrix}\n",
    "sinx & -cosx\\\\ \n",
    "cosx & sinx\n",
    "\\end{vmatrix};$$\n",
    "\n",
    "   б)\n",
    "    \n",
    "$$\\begin{vmatrix}\n",
    "4 & 2 & 3\\\\ \n",
    "0 & 5 & 1\\\\ \n",
    "0 & 0 & 9\n",
    "\\end{vmatrix};$$\n",
    "    \n",
    "   в)\n",
    "\n",
    "$$\\begin{vmatrix}\n",
    "1 & 2 & 3\\\\ \n",
    "4 & 5 & 6\\\\ \n",
    "7 & 8 & 9\n",
    "\\end{vmatrix}.$$"
   ]
  },
  {
   "cell_type": "markdown",
   "metadata": {},
   "source": [
    "### __Решение:__"
   ]
  },
  {
   "cell_type": "markdown",
   "metadata": {},
   "source": [
    "### а)\n",
    "\n",
    "$$\\begin{vmatrix}\n",
    "\\sin x & -\\cos x\\\\ \n",
    "\\cos x & \\sin x\n",
    "\\end{vmatrix}=\\sin x\\cdot\\sin x + \\cos x\\cdot\\cos x=\\sin^{2}x+\\cos^{2}x=1$$\n",
    "\n",
    "### б)\n",
    "\n",
    "$$\\begin{vmatrix}\n",
    "4 & 2 & 3\\\\ \n",
    "0 & 5 & 1\\\\ \n",
    "0 & 0 & 9\n",
    "\\end{vmatrix}=4\\cdot\\begin{vmatrix}\n",
    "5 & 1\\\\ \n",
    "0 & 9\n",
    "\\end{vmatrix}-2\\cdot\\begin{vmatrix}\n",
    "0 & 1\\\\ \n",
    "0 & 9\n",
    "\\end{vmatrix}+3\\cdot\\begin{vmatrix}\n",
    "0 & 5 \\\\ \n",
    "0 & 0\n",
    "\\end{vmatrix}=4\\cdot45-2\\cdot0+3\\cdot0=180$$"
   ]
  },
  {
   "cell_type": "code",
   "execution_count": 1,
   "metadata": {},
   "outputs": [
    {
     "name": "stdout",
     "output_type": "stream",
     "text": [
      "Матрица:\n",
      "[[4 2 3]\n",
      " [0 5 1]\n",
      " [0 0 9]]\n",
      "Определитель:\n",
      "180\n"
     ]
    }
   ],
   "source": [
    "import numpy as np\n",
    "A = np.array([[4, 2, 3], [0, 5, 1], [0, 0, 9]])\n",
    "print(f'Матрица:\\n{A}')\n",
    "print(f'Определитель:\\n{np.linalg.det(A):.0f}')"
   ]
  },
  {
   "cell_type": "markdown",
   "metadata": {},
   "source": [
    "### в)\n",
    "\n",
    "$$\\begin{vmatrix}\n",
    "1 & 2 & 3\\\\ \n",
    "4 & 5 & 6\\\\ \n",
    "7 & 8 & 9\n",
    "\\end{vmatrix}=1\\cdot\\begin{vmatrix}\n",
    "5 & 6\\\\ \n",
    "8 & 9\n",
    "\\end{vmatrix}-2\\cdot\\begin{vmatrix}\n",
    "4 & 6\\\\ \n",
    "7 & 9\n",
    "\\end{vmatrix}+3\\cdot\\begin{vmatrix}\n",
    "4 & 5\\\\ \n",
    "7 & 8\n",
    "\\end{vmatrix}=1\\cdot-3-2\\cdot-6+3\\cdot-3=0$$"
   ]
  },
  {
   "cell_type": "code",
   "execution_count": 2,
   "metadata": {},
   "outputs": [
    {
     "name": "stdout",
     "output_type": "stream",
     "text": [
      "Матрица:\n",
      "[[1 2 3]\n",
      " [4 5 6]\n",
      " [7 8 9]]\n",
      "Определитель:\n",
      "0\n"
     ]
    }
   ],
   "source": [
    "A = np.array([[1, 2, 3], [4, 5, 6], [7, 8, 9]])\n",
    "print(f'Матрица:\\n{A}')\n",
    "print(f'Определитель:\\n{np.linalg.det(A):.0f}')"
   ]
  },
  {
   "cell_type": "markdown",
   "metadata": {},
   "source": [
    "### __Ответ:__ а) $1$; б) $180$; в) $0$."
   ]
  },
  {
   "cell_type": "markdown",
   "metadata": {},
   "source": [
    "### __2.__ Определитель матрицы $A$ равен $4$. Найти:\n",
    "\n",
    "   а) $det(A^{2})$;\n",
    "    \n",
    "   б) $det(A^{T})$;\n",
    "    \n",
    "   в) $det(2A)$.\n"
   ]
  },
  {
   "cell_type": "markdown",
   "metadata": {},
   "source": [
    "### __Решение:__"
   ]
  },
  {
   "cell_type": "markdown",
   "metadata": {},
   "source": [
    "Согласно свойствам определителя:\n",
    "\n",
    "### а)\n",
    "\n",
    "__9.__ Для двух квадратных матриц одинакового размера\n",
    "\n",
    "$$det(AB)=detA\\cdot detB.$$\n",
    "\n",
    "Искомое значение:\n",
    "\n",
    "$$det(A^2)=det(A\\cdot A)=detA\\cdot detA =16.$$\n",
    "\n",
    "### б)\n",
    "\n",
    "__1.__ Определитель транспонированной матрицы равен определителю исходной:\n",
    "\n",
    "$$detA^{T}=detA.$$\n",
    "\n",
    "Искомое значение:\n",
    "\n",
    "$$det(A^{T})=detA=4.$$\n",
    "\n",
    "### в)\n",
    "\n",
    "__2.__ Умножение строки или столбца матрицы на число $\\lambda$ приведет к умножению определителя матрицы на то же число. \n",
    "\n",
    "Так как умножение матрицы $A$ на число 2 приводит к умножению каждой строки матрицы на число 2, то искомое значение:\n",
    "\n",
    "$$det(2A)=2^n\\cdot detA=2^n\\cdot4,$$\n",
    "\n",
    "где $n$ - это порядок исходной квадратной матрицы."
   ]
  },
  {
   "cell_type": "markdown",
   "metadata": {},
   "source": [
    "### __Ответ:__ а) $16$; б) $4$ ; в) $2^n\\cdot4$, где $n$ - порядок исходной квадратной матрицы."
   ]
  },
  {
   "cell_type": "markdown",
   "metadata": {},
   "source": [
    "### __3.__  Доказать, что матрица\n",
    "\n",
    "$$\\begin{pmatrix}\n",
    "-2 & 7 & -3\\\\ \n",
    "4 & -14 & 6\\\\ \n",
    "-3 & 7 & 13\n",
    "\\end{pmatrix}$$\n",
    "   \n",
    "вырожденная."
   ]
  },
  {
   "cell_type": "markdown",
   "metadata": {},
   "source": [
    "### __Решение:__"
   ]
  },
  {
   "cell_type": "markdown",
   "metadata": {},
   "source": [
    "Заметим, что вторая строка может быть получена путём умножения первой строки на $-2$.\n",
    "\n",
    "Согласно свойствам определителя:\n",
    "\n",
    "__6.__ Если две строки (столбца) матрицы линейно зависимы, то определитель этой матрицы равен нулю.\n",
    "\n",
    "Т.к. определитель равен нулю, то матрица вырожденная."
   ]
  },
  {
   "cell_type": "code",
   "execution_count": 3,
   "metadata": {},
   "outputs": [
    {
     "name": "stdout",
     "output_type": "stream",
     "text": [
      "Матрица:\n",
      "[[ -2   7  -3]\n",
      " [  4 -14   6]\n",
      " [ -3   7  13]]\n",
      "Определитель:\n",
      "0\n"
     ]
    }
   ],
   "source": [
    "A = np.array([[-2, 7, -3], [4, -14, 6], [-3, 7, 13]])\n",
    "print(f'Матрица:\\n{A}')\n",
    "print(f'Определитель:\\n{np.linalg.det(A):.0f}')"
   ]
  },
  {
   "cell_type": "markdown",
   "metadata": {},
   "source": [
    "### __4.__ Найти ранг матрицы:\n",
    "\n",
    "   а) $\\begin{pmatrix}\n",
    "1 & 2 & 3\\\\ \n",
    "1 & 1 & 1\\\\ \n",
    "2 & 3 & 4\n",
    "\\end{pmatrix};$\n",
    "\n",
    "   б) $\\begin{pmatrix}\n",
    "0 & 0 & 2 & 1\\\\ \n",
    "0 & 0 & 2 & 2\\\\ \n",
    "0 & 0 & 4 & 3\\\\ \n",
    "2 & 3 & 5 & 6\n",
    "\\end{pmatrix}.$"
   ]
  },
  {
   "cell_type": "markdown",
   "metadata": {},
   "source": [
    "### __Решение:__"
   ]
  },
  {
   "cell_type": "markdown",
   "metadata": {},
   "source": [
    "### а)\n",
    "\n",
    "Из второй и третьей строк вычтем первую, умноженную на $1$ и $2$ соответственно:\n",
    "\n",
    "$$\\begin{pmatrix}\n",
    "1 & 2 & 3\\\\ \n",
    "0 & -1 & -2\\\\ \n",
    "0 & -1 & -2\n",
    "\\end{pmatrix}.$$\n",
    "\n",
    "Вторая и третья строки равны, отбрасываем третью:\n",
    "\n",
    "$$\\begin{pmatrix}\n",
    "1 & 2 & 3\\\\ \n",
    "0 & -1 & -2\n",
    "\\end{pmatrix}.$$\n",
    "\n",
    "Таким образом, ранг матрицы равен $2$."
   ]
  },
  {
   "cell_type": "code",
   "execution_count": 4,
   "metadata": {},
   "outputs": [
    {
     "name": "stdout",
     "output_type": "stream",
     "text": [
      "Ранг матрицы: 2\n"
     ]
    }
   ],
   "source": [
    "A = np.array([[1, 2, 3], [1, 1, 1], [2, 3, 4]])\n",
    "r = np.linalg.matrix_rank(A)\n",
    "\n",
    "print(f'Ранг матрицы: {r}')"
   ]
  },
  {
   "cell_type": "markdown",
   "metadata": {},
   "source": [
    "### б)\n",
    "\n",
    "Переставим четвертую строку на первую:\n",
    "\n",
    "$$\\begin{pmatrix}\n",
    "2 & 3 & 5 & 6\\\\\n",
    "0 & 0 & 2 & 1\\\\ \n",
    "0 & 0 & 2 & 2\\\\ \n",
    "0 & 0 & 4 & 3 \n",
    "\\end{pmatrix}.$$\n",
    "\n",
    "Из третьей и четвертой строк вычтем вторую, умноженную на  1  и  2  соответственно:\n",
    "\n",
    "$$\\begin{pmatrix}\n",
    "2 & 3 & 5 & 6\\\\\n",
    "0 & 0 & 2 & 1\\\\ \n",
    "0 & 0 & 0 & 1\\\\ \n",
    "0 & 0 & 0 & 1 \n",
    "\\end{pmatrix}.$$\n",
    "\n",
    "Третья и четвертая строки равны, отбрасываем четвертую:\n",
    "\n",
    "$$\\begin{pmatrix}\n",
    "2 & 3 & 5 & 6\\\\\n",
    "0 & 0 & 2 & 1\\\\ \n",
    "0 & 0 & 0 & 1\n",
    "\\end{pmatrix}.$$\n",
    "\n",
    "Таким образом, ранг матрицы равен $3$."
   ]
  },
  {
   "cell_type": "code",
   "execution_count": 5,
   "metadata": {},
   "outputs": [
    {
     "name": "stdout",
     "output_type": "stream",
     "text": [
      "Ранг матрицы: 3\n"
     ]
    }
   ],
   "source": [
    "A = np.array([[0, 0, 2, 1], [0, 0, 2, 2], [0, 0, 4, 3], [2, 3, 5, 6]])\n",
    "r = np.linalg.matrix_rank(A)\n",
    "\n",
    "print(f'Ранг матрицы: {r}')"
   ]
  },
  {
   "cell_type": "markdown",
   "metadata": {},
   "source": [
    "### __Ответ:__ а) $2$; б) $3$."
   ]
  },
  {
   "cell_type": "markdown",
   "metadata": {},
   "source": [
    "### __5*.__ Написать на Python функцию вычисления определителя методом разложения матрицы."
   ]
  },
  {
   "cell_type": "markdown",
   "metadata": {},
   "source": [
    "### __Решение:__"
   ]
  },
  {
   "cell_type": "code",
   "execution_count": 6,
   "metadata": {},
   "outputs": [
    {
     "name": "stdout",
     "output_type": "stream",
     "text": [
      "Матрица A\n",
      "[[ 1  0  3  1  1]\n",
      " [ 4  5  6  1 -1]\n",
      " [ 7  8  2  1  8]\n",
      " [ 7  7  2  1  2]\n",
      " [ 1  0  3  1  7]]\n",
      "\n",
      "Матрица B\n",
      "[[ 1  4  7  7  1]\n",
      " [ 0  5  8  7  0]\n",
      " [ 3  6  2  2  3]\n",
      " [ 1  1  1  1  1]\n",
      " [ 1 -1  8  2  7]]\n",
      "\n",
      "Наш алгоритм: определитель A\n",
      "126\n",
      "\n",
      "Numpy алгоритм: определитель A\n",
      "125.99999999999989\n",
      "\n",
      "Наш алгоритм: определитель B\n",
      "126\n",
      "\n",
      "Numpy алгоритм: определитель B\n",
      "126.0\n",
      "\n"
     ]
    }
   ],
   "source": [
    "def getMinors(A):\n",
    "    result = []\n",
    "    for j in range(len(A[0])):\n",
    "        _split = np.hsplit(A[1:,],(j,j+1))\n",
    "        result.append(np.hstack((_split[0], _split[2])))\n",
    "    return result\n",
    "\n",
    "def getDet(A):\n",
    "    result = 0\n",
    "    if len(A) < 3:\n",
    "        result = A[0,0]*A[1,1]-A[0,1]*A[1,0]\n",
    "    else:\n",
    "        M = getMinors(A)\n",
    "        for num,item in enumerate(M):\n",
    "            if A[0,num] > 0:\n",
    "                result += A[0,num]*(-1)**num*getDet(item)\n",
    "    return result\n",
    "        \n",
    "    \n",
    "A = np.array([[1, 0, 3, 1, 1], [4, 5, 6, 1, -1], [7, 8, 2, 1, 8], [7, 7, 2, 1, 2], [1, 0, 3, 1, 7]])\n",
    "print(f'Матрица A\\n{A}\\n')\n",
    "\n",
    "B = A.T\n",
    "print(f'Матрица B\\n{B}\\n')\n",
    "\n",
    "print(f'Наш алгоритм: определитель A\\n{getDet(A)}\\n')\n",
    "print(f'Numpy алгоритм: определитель A\\n{np.linalg.det(A)}\\n')\n",
    "\n",
    "print(f'Наш алгоритм: определитель B\\n{getDet(B)}\\n')\n",
    "print(f'Numpy алгоритм: определитель B\\n{np.linalg.det(B)}\\n')"
   ]
  }
 ],
 "metadata": {
  "kernelspec": {
   "display_name": "Python 3",
   "language": "python",
   "name": "python3"
  },
  "language_info": {
   "codemirror_mode": {
    "name": "ipython",
    "version": 3
   },
   "file_extension": ".py",
   "mimetype": "text/x-python",
   "name": "python",
   "nbconvert_exporter": "python",
   "pygments_lexer": "ipython3",
   "version": "3.8.5"
  }
 },
 "nbformat": 4,
 "nbformat_minor": 4
}
