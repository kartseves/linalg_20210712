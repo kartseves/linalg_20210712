{
 "cells": [
  {
   "cell_type": "markdown",
   "metadata": {},
   "source": [
    "# Урок 4"
   ]
  },
  {
   "cell_type": "markdown",
   "metadata": {},
   "source": [
    "# Системы линейных уравнений. Часть 1"
   ]
  },
  {
   "cell_type": "markdown",
   "metadata": {},
   "source": [
    "### __1.__ Решить систему уравнений методом Гаусса:\n",
    "\n",
    "### $$\\begin{cases}\n",
    "x_{1}+x_{2}-x_{3}-2x_{4}=0, \\\\\n",
    "2x_{1}+x_{2}-x_{3}+x_{4}=-2, \\\\\n",
    "x_{1}+x_{2}-3x_{3}+x_{4}=4.\n",
    "\\end{cases}$$"
   ]
  },
  {
   "cell_type": "markdown",
   "metadata": {},
   "source": [
    "### __Решение:__"
   ]
  },
  {
   "cell_type": "markdown",
   "metadata": {},
   "source": [
    "Запишем расширенную матрицу системы:\n",
    "\n",
    "### $$\\begin{pmatrix}\n",
    "\\left.\\begin{matrix}\n",
    "1 & 1 & -1 & -2 \\\\ \n",
    "2 & 1 & -1 & 1 \\\\ \n",
    "1 & 1 & -3 & 1\n",
    "\\end{matrix}\\right|\n",
    "\\begin{matrix}\n",
    "0\\\\ \n",
    "-2\\\\\n",
    "4\n",
    "\\end{matrix}\n",
    "\\end{pmatrix}.$$\n",
    "\n",
    "Путем элементарных преобразований постараемся привести матрицу к ступенчатому виду.\n",
    "\n",
    "Вычтем из второй строки первую, умноженную на 2:\n",
    "\n",
    "### $$\\begin{pmatrix}\n",
    "\\left.\\begin{matrix}\n",
    "1 & 1 & -1 & -2 \\\\ \n",
    "0 & -1 & 1 & 5 \\\\ \n",
    "1 & 1 & -3 & 1\n",
    "\\end{matrix}\\right|\n",
    "\\begin{matrix}\n",
    "0\\\\ \n",
    "-2\\\\\n",
    "4\n",
    "\\end{matrix}\n",
    "\\end{pmatrix}.$$\n",
    "\n",
    "Вычтем из третьей строки первую:\n",
    "\n",
    "### $$\\begin{pmatrix}\n",
    "\\left.\\begin{matrix}\n",
    "1 & 1 & -1 & -2 \\\\ \n",
    "0 & -1 & 1 & 5 \\\\ \n",
    "0 & 0 & -2 & 3\n",
    "\\end{matrix}\\right|\n",
    "\\begin{matrix}\n",
    "0\\\\ \n",
    "-2\\\\\n",
    "4\n",
    "\\end{matrix}\n",
    "\\end{pmatrix}.$$\n",
    "\n",
    "### $$x_{4}=c,$$\n",
    "### $$-2x_{3}+3c=4 \\; \\Leftrightarrow \\; x_{3}=(3c-4)/2,$$\n",
    "### $$-x_{2} + (3c-4)/2 + 5c=-2 \\; \\Leftrightarrow \\; x_{2}=13c/2,$$\n",
    "### $$x_{1} + 13c/2 - (3c-4)/2 -2c=0 \\; \\Leftrightarrow \\; x_{1}=-3c-2.$$\n"
   ]
  },
  {
   "cell_type": "code",
   "execution_count": 1,
   "metadata": {},
   "outputs": [
    {
     "name": "stdout",
     "output_type": "stream",
     "text": [
      "Матрица A:\n",
      "[[ 1  1 -1 -2]\n",
      " [ 2  1 -1  1]\n",
      " [ 1  1 -3  1]]\n",
      "b:\n",
      "[[ 0]\n",
      " [-2]\n",
      " [ 4]]\n",
      "\n",
      "Частное решение при с=0:\n",
      "[[-2.]\n",
      " [ 0.]\n",
      " [-2.]\n",
      " [ 0.]]\n",
      "Ax:\n",
      "[[ 0.]\n",
      " [-2.]\n",
      " [ 4.]]=b\n",
      "Частное решение при с=2:\n",
      "[[-8.]\n",
      " [13.]\n",
      " [ 1.]\n",
      " [ 2.]]\n",
      "Ax:\n",
      "[[ 0.]\n",
      " [-2.]\n",
      " [ 4.]]=b\n"
     ]
    }
   ],
   "source": [
    "import numpy as np\n",
    "A = np.array([[1, 1, -1, -2], [2, 1, -1, 1], [1, 1, -3, 1]])\n",
    "b = np.array([[0, -2, 4]]).T\n",
    "print(f'Матрица A:\\n{A}')\n",
    "print(f'b:\\n{b}\\n')\n",
    "\n",
    "c = 0\n",
    "x = np.array([[-3*c-2, 13*c/2, (3*c-4)/2, c]]).T\n",
    "print(f'Частное решение при с={c}:\\n{x}')\n",
    "\n",
    "print(f'Ax:\\n{A.dot(x)}=b')\n",
    "\n",
    "c = 2\n",
    "x = np.array([[-3*c-2, 13*c/2, (3*c-4)/2, c]]).T\n",
    "print(f'Частное решение при с={c}:\\n{x}')\n",
    "\n",
    "print(f'Ax:\\n{A.dot(x)}=b')"
   ]
  },
  {
   "cell_type": "markdown",
   "metadata": {},
   "source": [
    "### __Ответ:__ система имеет множество решений вида $x=\\begin{pmatrix}\n",
    "-3c-2 \\\\ \n",
    "13c/2 \\\\\n",
    "(3c-4)/2 \\\\\n",
    "c \\\\\n",
    "\\end{pmatrix}$."
   ]
  },
  {
   "cell_type": "markdown",
   "metadata": {},
   "source": [
    "### __2.__ Проверить на совместность и выяснить, сколько решений будет иметь система линейных уравнений:\n",
    "\n",
    "###   а) $\\begin{cases}\n",
    "3x_{1}-x_{2}+x_{3}=4, \\\\\n",
    "2x_{1}-5x_{2}-3x_{3}=-17, \\\\\n",
    "x_{1}+x_{2}-x_{3}=0;\n",
    "\\end{cases}$\n",
    "    \n",
    "###   б) $\\begin{cases}\n",
    "2x_{1}-4x_{2}+6x_{3}=1, \\\\\n",
    "x_{1}-2x_{2}+3x_{3}=-2, \\\\\n",
    "3x_{1}-6x_{2}+9x_{3}=5;\n",
    "\\end{cases}$\n",
    "    \n",
    "###   в) $\\begin{cases}\n",
    "x_{1}+2x_{2}+5x_{3}=4, \\\\\n",
    "3x_{1}+x_{2}-8x_{3}=-2. \n",
    "\\end{cases}$"
   ]
  },
  {
   "cell_type": "markdown",
   "metadata": {},
   "source": [
    "### __Решение:__"
   ]
  },
  {
   "cell_type": "markdown",
   "metadata": {},
   "source": [
    "### а)"
   ]
  },
  {
   "cell_type": "code",
   "execution_count": 2,
   "metadata": {},
   "outputs": [
    {
     "name": "stdout",
     "output_type": "stream",
     "text": [
      "Матрица A:\n",
      "[[ 3 -1  1]\n",
      " [ 2 -5 -3]\n",
      " [ 1  1 -1]]\n",
      "Расширенная матрица A:\n",
      "[[  3  -1   1   4]\n",
      " [  2  -5  -3 -17]\n",
      " [  1   1  -1   0]]\n",
      "\n",
      "Ранг матрицы А:\n",
      "3\n",
      "Ранг расширенной матрицы А:\n",
      "3\n"
     ]
    }
   ],
   "source": [
    "A = np.array([[3, -1, 1], [2, -5, -3], [1, 1, -1]])\n",
    "A_= np.array([[3, -1, 1, 4], [2, -5, -3, -17], [1, 1, -1, 0]])\n",
    "\n",
    "print(f'Матрица A:\\n{A}')\n",
    "print(f'Расширенная матрица A:\\n{A_}\\n')\n",
    "print(f'Ранг матрицы А:\\n{np.linalg.matrix_rank(A)}')\n",
    "print(f'Ранг расширенной матрицы А:\\n{np.linalg.matrix_rank(A_)}')"
   ]
  },
  {
   "cell_type": "markdown",
   "metadata": {},
   "source": [
    "$rankA=rank \\tilde A=3$, число неизвестных $n=3$, значит система определена, т. е. имеет единственное решение."
   ]
  },
  {
   "cell_type": "markdown",
   "metadata": {},
   "source": [
    "### б)"
   ]
  },
  {
   "cell_type": "code",
   "execution_count": 3,
   "metadata": {},
   "outputs": [
    {
     "name": "stdout",
     "output_type": "stream",
     "text": [
      "Матрица A:\n",
      "[[ 2 -4  6]\n",
      " [ 1 -2  3]\n",
      " [ 3 -6  9]]\n",
      "Расширенная матрица A:\n",
      "[[ 2 -4  6  1]\n",
      " [ 1 -2  3 -2]\n",
      " [ 3 -6  9  5]]\n",
      "\n",
      "Ранг матрицы А:\n",
      "1\n",
      "Ранг расширенной матрицы А:\n",
      "2\n"
     ]
    }
   ],
   "source": [
    "A = np.array([[2, -4, 6], [1, -2, 3], [3, -6, 9]])\n",
    "A_= np.array([[2, -4, 6, 1], [1, -2, 3, -2], [3, -6, 9, 5]])\n",
    "\n",
    "print(f'Матрица A:\\n{A}')\n",
    "print(f'Расширенная матрица A:\\n{A_}\\n')\n",
    "print(f'Ранг матрицы А:\\n{np.linalg.matrix_rank(A)}')\n",
    "print(f'Ранг расширенной матрицы А:\\n{np.linalg.matrix_rank(A_)}')"
   ]
  },
  {
   "cell_type": "markdown",
   "metadata": {},
   "source": [
    "$rankA<rank \\tilde A$, значит система несовместна."
   ]
  },
  {
   "cell_type": "markdown",
   "metadata": {},
   "source": [
    "### в)"
   ]
  },
  {
   "cell_type": "code",
   "execution_count": 4,
   "metadata": {},
   "outputs": [
    {
     "name": "stdout",
     "output_type": "stream",
     "text": [
      "Матрица A:\n",
      "[[ 1  2  5]\n",
      " [ 3  1 -8]]\n",
      "Расширенная матрица A:\n",
      "[[ 1  2  5  4]\n",
      " [ 3  1 -8 -2]]\n",
      "\n",
      "Ранг матрицы А:\n",
      "2\n",
      "Ранг расширенной матрицы А:\n",
      "2\n"
     ]
    }
   ],
   "source": [
    "A = np.array([[1, 2, 5], [3, 1, -8]])\n",
    "A_ = np.array([[1, 2, 5, 4], [3, 1, -8, -2]])\n",
    "\n",
    "print(f'Матрица A:\\n{A}')\n",
    "print(f'Расширенная матрица A:\\n{A_}\\n')\n",
    "print(f'Ранг матрицы А:\\n{np.linalg.matrix_rank(A)}')\n",
    "print(f'Ранг расширенной матрицы А:\\n{np.linalg.matrix_rank(A_)}')"
   ]
  },
  {
   "cell_type": "markdown",
   "metadata": {},
   "source": [
    "$rankA=rank \\tilde A=2$, число неизвестных $n=3$, значит система имеет  бесконечное количество решений."
   ]
  },
  {
   "cell_type": "markdown",
   "metadata": {},
   "source": [
    "### __Ответ:__ а) совместна, решение единственное; б) несовместна; в) совместна, бесконечное количество решений."
   ]
  },
  {
   "cell_type": "markdown",
   "metadata": {},
   "source": [
    "### __3.__ Проверить на совместность и выяснить, сколько решений будет иметь система линейных уравнений, заданная расширенной матрицей\n",
    "\n",
    "### $$\\tilde{A}=\\begin{pmatrix}\n",
    "\\left.\\begin{matrix}\n",
    "1 & 3 & -2 & 4\\\\ \n",
    "0 & 5 & 0 & 1\\\\ \n",
    "0 & 0 & 3 & 0\\\\ \n",
    "0 & 0 & 0 & 2\n",
    "\\end{matrix}\\right|\n",
    "\\begin{matrix}\n",
    "3\\\\ \n",
    "2\\\\\n",
    "4\\\\\n",
    "1\n",
    "\\end{matrix}\n",
    "\\end{pmatrix}.$$"
   ]
  },
  {
   "cell_type": "markdown",
   "metadata": {},
   "source": [
    "### __Решение:__"
   ]
  },
  {
   "cell_type": "code",
   "execution_count": 5,
   "metadata": {},
   "outputs": [
    {
     "name": "stdout",
     "output_type": "stream",
     "text": [
      "Расширенная матрица A:\n",
      "[[ 1  3 -2  4  3]\n",
      " [ 0  5  0  1  2]\n",
      " [ 0  0  3  0  4]\n",
      " [ 0  0  0  2  1]]\n",
      "\n",
      "Матрица A:\n",
      "[[ 1  3 -2  4]\n",
      " [ 0  5  0  1]\n",
      " [ 0  0  3  0]\n",
      " [ 0  0  0  2]]\n",
      "Ранг матрицы А:\n",
      "4\n",
      "Ранг расширенной матрицы А:\n",
      "4\n"
     ]
    }
   ],
   "source": [
    "A_ = np.array([[1, 3, -2, 4, 3], [0, 5, 0, 1, 2], [0, 0, 3, 0, 4], [0, 0, 0, 2, 1]])\n",
    "A = np.array([[1, 3, -2, 4], [0, 5, 0, 1], [0, 0, 3, 0], [0, 0, 0, 2]])\n",
    "\n",
    "print(f'Расширенная матрица A:\\n{A_}\\n')\n",
    "print(f'Матрица A:\\n{A}')\n",
    "print(f'Ранг матрицы А:\\n{np.linalg.matrix_rank(A)}')\n",
    "print(f'Ранг расширенной матрицы А:\\n{np.linalg.matrix_rank(A_)}')"
   ]
  },
  {
   "cell_type": "markdown",
   "metadata": {},
   "source": [
    "$rankA=rank \\tilde A=4$, число неизвестных $n=4$, значит система определена, т. е. имеет единственное решение."
   ]
  },
  {
   "cell_type": "markdown",
   "metadata": {},
   "source": [
    "### __Ответ:__ совместна, решение единственное."
   ]
  },
  {
   "cell_type": "markdown",
   "metadata": {},
   "source": [
    "### __4.__ Дана система линейных уравнений, заданная расширенной матрицей\n",
    "\n",
    "### $$\\tilde{A}=\\begin{pmatrix}\n",
    "\\left.\\begin{matrix}\n",
    "1 & 2 & 3\\\\ \n",
    "4 & 5 & 6\\\\ \n",
    "7 & 8 & 9\n",
    "\\end{matrix}\\right|\n",
    "\\begin{matrix}\n",
    "a\\\\ \n",
    "b\\\\\n",
    "c\n",
    "\\end{matrix}\n",
    "\\end{pmatrix}.$$\n",
    "\n",
    "### Найти соотношение между параметрами $a$, $b$ и $c$, при которых система является несовместной."
   ]
  },
  {
   "cell_type": "markdown",
   "metadata": {},
   "source": [
    "### __Решение:__"
   ]
  },
  {
   "cell_type": "markdown",
   "metadata": {},
   "source": [
    "Путем элементарных преобразований постараемся привести матрицу к ступенчатому виду.\n",
    "\n",
    "Вычтем из второй строки первую, умноженную на 4:\n",
    "\n",
    "### $$\\begin{pmatrix}\n",
    "\\left.\\begin{matrix}\n",
    "1 & 2 & 3\\\\ \n",
    "0 & -3 & -6\\\\ \n",
    "7 & 8 & 9\n",
    "\\end{matrix}\\right|\n",
    "\\begin{matrix}\n",
    "a\\\\ \n",
    "b-4a\\\\\n",
    "c\n",
    "\\end{matrix}\n",
    "\\end{pmatrix}.$$\n",
    "\n",
    "Вычтем из третьей строки первую, умноженную на 7:\n",
    "\n",
    "### $$\\begin{pmatrix}\n",
    "\\left.\\begin{matrix}\n",
    "1 & 2 & 3\\\\ \n",
    "0 & -3 & -6\\\\ \n",
    "0 & -6 & -12\n",
    "\\end{matrix}\\right|\n",
    "\\begin{matrix}\n",
    "a\\\\ \n",
    "b-4a\\\\\n",
    "c-7a\n",
    "\\end{matrix}\n",
    "\\end{pmatrix}.$$\n",
    "\n",
    "Вычтем из третьей строки вторую, умноженную на 2:\n",
    "\n",
    "### $$\\begin{pmatrix}\n",
    "\\left.\\begin{matrix}\n",
    "1 & 2 & 3\\\\ \n",
    "0 & -3 & -6\\\\ \n",
    "0 & 0 & 0\n",
    "\\end{matrix}\\right|\n",
    "\\begin{matrix}\n",
    "a\\\\ \n",
    "b-4a\\\\\n",
    "c-7a-2(b-4a)\n",
    "\\end{matrix}\n",
    "\\end{pmatrix}.$$"
   ]
  },
  {
   "cell_type": "markdown",
   "metadata": {},
   "source": [
    "Если $c-7a-2(b-4a)=a-2b+c\\neq 0$, то $rank \\tilde A=3$, в то время как $rank A=2$. Это означает, что система в этом случае несовместна."
   ]
  },
  {
   "cell_type": "code",
   "execution_count": 6,
   "metadata": {},
   "outputs": [
    {
     "name": "stdout",
     "output_type": "stream",
     "text": [
      "Матрица A:\n",
      "[[1 2 3]\n",
      " [4 5 6]\n",
      " [7 8 9]]\n",
      "Ранг матрицы А:\n",
      "2\n",
      "Ранг матрицы А_ при a-2b+c=0:\n",
      "2\n",
      "Ранг матрицы А_ при a-2b+c<>0:\n",
      "3\n"
     ]
    }
   ],
   "source": [
    "A = np.array([[1, 2, 3], [4, 5, 6], [7, 8, 9]])\n",
    "\n",
    "print(f'Матрица A:\\n{A}')\n",
    "print(f'Ранг матрицы А:\\n{np.linalg.matrix_rank(A)}')\n",
    "\n",
    "A_1 = np.array([[1, 2, 3, 1], [4, 5, 6, 1], [7, 8, 9, 1]])\n",
    "print(f'Ранг матрицы А_ при a-2b+c=0:\\n{np.linalg.matrix_rank(A_1)}')\n",
    "\n",
    "A_2 = np.array([[1, 2, 3, 1], [4, 5, 6, -1], [7, 8, 9, 1]])\n",
    "print(f'Ранг матрицы А_ при a-2b+c<>0:\\n{np.linalg.matrix_rank(A_2)}')"
   ]
  },
  {
   "cell_type": "markdown",
   "metadata": {},
   "source": [
    "### __Ответ:__ $a-2b+c\\neq 0$."
   ]
  }
 ],
 "metadata": {
  "kernelspec": {
   "display_name": "Python 3",
   "language": "python",
   "name": "python3"
  },
  "language_info": {
   "codemirror_mode": {
    "name": "ipython",
    "version": 3
   },
   "file_extension": ".py",
   "mimetype": "text/x-python",
   "name": "python",
   "nbconvert_exporter": "python",
   "pygments_lexer": "ipython3",
   "version": "3.8.5"
  }
 },
 "nbformat": 4,
 "nbformat_minor": 4
}
