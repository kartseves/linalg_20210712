{
 "cells": [
  {
   "cell_type": "markdown",
   "metadata": {},
   "source": [
    "# Урок 1"
   ]
  },
  {
   "cell_type": "markdown",
   "metadata": {},
   "source": [
    "# Линейное пространство. Основные понятия. Часть 2"
   ]
  },
  {
   "cell_type": "markdown",
   "metadata": {},
   "source": [
    "### __1.__ Найти скалярное произведение векторов $x, y \\in \\mathbb{R}$:\n",
    "\n",
    "### а) $x=(0,-3, 6),~y=(-4, 7, 9);$\n",
    "\n",
    "### б) $x=(7, -4, 0, 1),~y=(-3, 1, 11, 2).$"
   ]
  },
  {
   "cell_type": "markdown",
   "metadata": {},
   "source": [
    "### __Решение:__"
   ]
  },
  {
   "cell_type": "markdown",
   "metadata": {},
   "source": [
    "### а)\n",
    "\n",
    "### $$(x,y)=0\\cdot-4-3\\cdot7+6\\cdot9=33$$"
   ]
  },
  {
   "cell_type": "code",
   "execution_count": 1,
   "metadata": {},
   "outputs": [],
   "source": [
    "import numpy as np"
   ]
  },
  {
   "cell_type": "code",
   "execution_count": 2,
   "metadata": {},
   "outputs": [
    {
     "name": "stdout",
     "output_type": "stream",
     "text": [
      "Скалярное произведение x и y:\n",
      "33\n"
     ]
    }
   ],
   "source": [
    "x = np.array([0, -3, 6])\n",
    "y = np.array([-4, 7, 9])\n",
    "print(f'Скалярное произведение x и y:\\n{np.dot(x, y)}')"
   ]
  },
  {
   "cell_type": "markdown",
   "metadata": {},
   "source": [
    "### б)\n",
    "\n",
    "### $$(x,y)=7\\cdot-3-4\\cdot1+0\\cdot11+1\\cdot2=-23$$"
   ]
  },
  {
   "cell_type": "code",
   "execution_count": 3,
   "metadata": {},
   "outputs": [
    {
     "name": "stdout",
     "output_type": "stream",
     "text": [
      "Скалярное произведение x и y:\n",
      "-23\n"
     ]
    }
   ],
   "source": [
    "x = np.array([7, -4, 0, 1])\n",
    "y = np.array([-3, 1, 11, 2])\n",
    "print(f'Скалярное произведение x и y:\\n{np.dot(x, y)}')"
   ]
  },
  {
   "cell_type": "markdown",
   "metadata": {},
   "source": [
    "### __Ответ:__ а) $33$; б) $-23$."
   ]
  },
  {
   "cell_type": "markdown",
   "metadata": {},
   "source": [
    "### __2.__ Найти нормы векторов $(4, 2, 4)$ и $(12, 3, 4)$ и угол между ними."
   ]
  },
  {
   "cell_type": "markdown",
   "metadata": {},
   "source": [
    "### __Решение:__"
   ]
  },
  {
   "cell_type": "markdown",
   "metadata": {},
   "source": [
    "Так как понятие угла между двумя произвольными элементами $x$ и $y$ можно ввести только в вещественном евклидовом пространстве, то определяем евклидовы нормы."
   ]
  },
  {
   "cell_type": "markdown",
   "metadata": {},
   "source": [
    "Определим евклидову норму вектора $x=(4, 2, 4)$:\n",
    "\n",
    "### $$\\left\\|x\\right\\|_{2} = \\sqrt{4^{2}+2^{2}+4^{2}}=\\sqrt{36}=6.$$"
   ]
  },
  {
   "cell_type": "code",
   "execution_count": 4,
   "metadata": {},
   "outputs": [
    {
     "name": "stdout",
     "output_type": "stream",
     "text": [
      "l2 Евклидова норма вектора x:\n",
      "6.0\n"
     ]
    }
   ],
   "source": [
    "x = np.array([4, 2, 4])\n",
    "print(f'l2 Евклидова норма вектора x:\\n{np.linalg.norm(x)}')"
   ]
  },
  {
   "cell_type": "markdown",
   "metadata": {},
   "source": [
    "Определим евклидову норму вектора $y=(12, 3, 4)$:\n",
    "\n",
    "### $$\\left\\|y\\right\\|_{2} = \\sqrt{12^{2}+3^{2}+4^{2}}=\\sqrt{169}=13.$$"
   ]
  },
  {
   "cell_type": "code",
   "execution_count": 5,
   "metadata": {},
   "outputs": [
    {
     "name": "stdout",
     "output_type": "stream",
     "text": [
      "l2 Евклидова норма вектора y:\n",
      "13.0\n"
     ]
    }
   ],
   "source": [
    "y = np.array([12, 3, 4])\n",
    "print(f'l2 Евклидова норма вектора y:\\n{np.linalg.norm(y)}')"
   ]
  },
  {
   "cell_type": "markdown",
   "metadata": {},
   "source": [
    "### $$(x,y)=4\\cdot12+2\\cdot3+4\\cdot4=70$$"
   ]
  },
  {
   "cell_type": "code",
   "execution_count": 6,
   "metadata": {},
   "outputs": [
    {
     "name": "stdout",
     "output_type": "stream",
     "text": [
      "Скалярное произведение x и y:\n",
      "70\n"
     ]
    }
   ],
   "source": [
    "print(f'Скалярное произведение x и y:\\n{np.dot(x, y)}')"
   ]
  },
  {
   "cell_type": "markdown",
   "metadata": {},
   "source": [
    "Косинус угла $\\varphi \\in [0, \\pi]$ между векторами определяется соотношением:\n",
    "\n",
    "### $$cos\\varphi = \\frac{(x,y)}{\\left \\|x\\right \\|\\cdot\\left \\|y\\right \\|}$$\n",
    "\n",
    "### $$cos\\varphi = \\frac{70}{6\\cdot13} = \\frac{70}{78} \\Rightarrow \\varphi = \\arccos\\frac{70}{78} \\approx 0,28768$$ "
   ]
  },
  {
   "cell_type": "code",
   "execution_count": 7,
   "metadata": {},
   "outputs": [
    {
     "name": "stdout",
     "output_type": "stream",
     "text": [
      "Угол между векторами x и y:\n",
      "0.2876820994163652 радиан\n"
     ]
    }
   ],
   "source": [
    "from math import acos\n",
    "print(f'Угол между векторами x и y:\\n{acos(70/73)} радиан')"
   ]
  },
  {
   "cell_type": "markdown",
   "metadata": {},
   "source": [
    "### __Ответ:__ 6; 13; ~0,28768 радиан"
   ]
  },
  {
   "cell_type": "markdown",
   "metadata": {},
   "source": [
    "### __3.__ Будет ли линейное пространство евклидовым, если за скалярное произведение принять:\n",
    "\n",
    "### а) произведение длин векторов;\n",
    "\n",
    "### б) утроенное обычное скалярное произведение векторов?"
   ]
  },
  {
   "cell_type": "markdown",
   "metadata": {},
   "source": [
    "### __Решение:__"
   ]
  },
  {
   "cell_type": "markdown",
   "metadata": {},
   "source": [
    "__Определение__\n",
    "\n",
    "Линейное пространство над полем вещественных чисел называется _евклидовым пространством_, если на нем введено правило, согласно которому каждой упорядоченной паре векторов $x$ и $y$ поставлено в соответствие вещественное число, называемое _скалярным произведением_ и обозначаемое символом $(x, y)$.\n",
    "\n",
    "При этом указанное правило должно подчиняться четырем аксиомам:<br>\n",
    "1) $(x,y)=(y,x);$<br>\n",
    "2) $(\\lambda x, y)=\\lambda(x, y);$<br>\n",
    "3) $(x_{1}+x_{2},y)=(x_{1},y)+(x_{2},y);$<br>\n",
    "4) $(x, x)\\geq0$, причем $(x,x)=0\\Leftrightarrow x=0.$"
   ]
  },
  {
   "cell_type": "markdown",
   "metadata": {},
   "source": [
    "### а) \n",
    "\n",
    "Скалярное произведение определено как: $(x,y)=\\left\\|x\\right\\| \\cdot \\left\\|y\\right\\|$"
   ]
  },
  {
   "cell_type": "markdown",
   "metadata": {},
   "source": [
    "$(y,x)=\\left\\|y\\right\\| \\cdot \\left\\|x\\right\\|=(x,y)$, т.е. первая аксиома выполняется"
   ]
  },
  {
   "cell_type": "markdown",
   "metadata": {},
   "source": [
    "$(\\lambda x,y)=\\left\\|\\lambda x\\right\\| \\cdot \\left\\|y\\right\\|= |\\lambda|\\left\\|x\\right\\|\\cdot \\left\\|y\\right\\|=|\\lambda|\\cdot(x,y)$, т.е. при $\\lambda < 0$ вторая аксиома не выполняется, значит линейное пространство не является евклидовым."
   ]
  },
  {
   "cell_type": "markdown",
   "metadata": {},
   "source": [
    "### а) \n",
    "\n",
    "Скалярное произведение определено как: $(x,y)=3 \\cdot (x,y) = 3 \\cdot (a_{1}b_{1}+a_{2}b_{2}+...+a_{n}b_{n})$"
   ]
  },
  {
   "cell_type": "markdown",
   "metadata": {},
   "source": [
    "Очевидно, что определенные аксиомы выполняются для этого правила, значит линейное пространство является евклидовым."
   ]
  },
  {
   "cell_type": "markdown",
   "metadata": {},
   "source": [
    "### __Ответ:__ а) не является; б) является."
   ]
  },
  {
   "cell_type": "markdown",
   "metadata": {},
   "source": [
    "### __4.__ Какие из нижеперечисленных векторов образуют ортонормированный базис в линейном пространстве $\\mathbb{R}^{3}$:\n",
    "\n",
    "### а) $(1,0,0),(0,0,1);$\n",
    "\n",
    "### б) $(1/\\sqrt{2},-1/\\sqrt{2},0),(1/\\sqrt{2},1/\\sqrt{2},0), (0,0,1);$\n",
    "\n",
    "### в) $(1/2, -1/2, 0), (0, 1/2, 1/2), (0,0,1);$\n",
    "\n",
    "### г) $(1,0,0),(0,1,0),(0,0,1)?$"
   ]
  },
  {
   "cell_type": "markdown",
   "metadata": {},
   "source": [
    "### __Решение:__"
   ]
  },
  {
   "cell_type": "markdown",
   "metadata": {},
   "source": [
    "__Определение.__ В конечномерном евклидовом пространстве базис $\\{e_{1},e_{2},...,e_{n}\\}$ называется ортонормированным, если \n",
    "\n",
    "$(e_{i}, e_{j})=0$ $\\forall$ $i\\neq j$ и $(e_{i},e_{i})=1$ $\\forall$ $i\\in[1, n].$"
   ]
  },
  {
   "cell_type": "markdown",
   "metadata": {},
   "source": [
    "### а) "
   ]
  },
  {
   "cell_type": "code",
   "execution_count": 8,
   "metadata": {},
   "outputs": [
    {
     "name": "stdout",
     "output_type": "stream",
     "text": [
      "Скалярное произведение x и y:\n",
      "0\n",
      "Скалярное произведение x и x:\n",
      "1\n",
      "Скалярное произведение y и y:\n",
      "1\n"
     ]
    }
   ],
   "source": [
    "x = np.array([1, 0, 0])\n",
    "y = np.array([0, 0, 1])\n",
    "print(f'Скалярное произведение x и y:\\n{np.dot(x, y)}')\n",
    "print(f'Скалярное произведение x и x:\\n{np.dot(x, x)}')\n",
    "print(f'Скалярное произведение y и y:\\n{np.dot(y, y)}')"
   ]
  },
  {
   "cell_type": "markdown",
   "metadata": {},
   "source": [
    "Условия выполняются, значит вектора образуют ортонормированный базис в линейном пространстве $\\mathbb{R}^{3}$."
   ]
  },
  {
   "cell_type": "markdown",
   "metadata": {},
   "source": [
    "### б) "
   ]
  },
  {
   "cell_type": "code",
   "execution_count": 9,
   "metadata": {},
   "outputs": [
    {
     "name": "stdout",
     "output_type": "stream",
     "text": [
      "Скалярное произведение x и y:\n",
      "0.0\n",
      "Скалярное произведение x и z:\n",
      "0.0\n",
      "Скалярное произведение y и z:\n",
      "0.0\n",
      "Скалярное произведение x и x:\n",
      "0.9999999999999998\n",
      "Скалярное произведение y и y:\n",
      "0.9999999999999998\n",
      "Скалярное произведение z и z:\n",
      "1\n"
     ]
    }
   ],
   "source": [
    "x = np.array([1/np.sqrt(2), -1/np.sqrt(2), 0])\n",
    "y = np.array([1/np.sqrt(2), 1/np.sqrt(2), 0])\n",
    "z = np.array([0, 0, 1])\n",
    "print(f'Скалярное произведение x и y:\\n{np.dot(x, y)}')\n",
    "print(f'Скалярное произведение x и z:\\n{np.dot(x, z)}')\n",
    "print(f'Скалярное произведение y и z:\\n{np.dot(y, z)}')\n",
    "\n",
    "print(f'Скалярное произведение x и x:\\n{np.dot(x, x)}')\n",
    "print(f'Скалярное произведение y и y:\\n{np.dot(y, y)}')\n",
    "print(f'Скалярное произведение z и z:\\n{np.dot(z, z)}')"
   ]
  },
  {
   "cell_type": "markdown",
   "metadata": {},
   "source": [
    "Условия выполняются, значит вектора образуют ортонормированный базис в линейном пространстве $\\mathbb{R}^{3}$."
   ]
  },
  {
   "cell_type": "markdown",
   "metadata": {},
   "source": [
    "### в) "
   ]
  },
  {
   "cell_type": "code",
   "execution_count": 10,
   "metadata": {},
   "outputs": [
    {
     "name": "stdout",
     "output_type": "stream",
     "text": [
      "Скалярное произведение x и y:\n",
      "-0.25\n",
      "Скалярное произведение x и z:\n",
      "0.0\n",
      "Скалярное произведение y и z:\n",
      "0.5\n",
      "Скалярное произведение x и x:\n",
      "0.5\n",
      "Скалярное произведение y и y:\n",
      "0.5\n",
      "Скалярное произведение z и z:\n",
      "1\n"
     ]
    }
   ],
   "source": [
    "x = np.array([1/2, -1/2, 0])\n",
    "y = np.array([0, 1/2, 1/2])\n",
    "z = np.array([0, 0, 1])\n",
    "print(f'Скалярное произведение x и y:\\n{np.dot(x, y)}')\n",
    "print(f'Скалярное произведение x и z:\\n{np.dot(x, z)}')\n",
    "print(f'Скалярное произведение y и z:\\n{np.dot(y, z)}')\n",
    "\n",
    "print(f'Скалярное произведение x и x:\\n{np.dot(x, x)}')\n",
    "print(f'Скалярное произведение y и y:\\n{np.dot(y, y)}')\n",
    "print(f'Скалярное произведение z и z:\\n{np.dot(z, z)}')"
   ]
  },
  {
   "cell_type": "markdown",
   "metadata": {},
   "source": [
    "Условия не выполняются, значит вектора не образуют ортонормированный базис в линейном пространстве $\\mathbb{R}^{3}$."
   ]
  },
  {
   "cell_type": "markdown",
   "metadata": {},
   "source": [
    "### г) "
   ]
  },
  {
   "cell_type": "code",
   "execution_count": 11,
   "metadata": {},
   "outputs": [
    {
     "name": "stdout",
     "output_type": "stream",
     "text": [
      "Скалярное произведение x и y:\n",
      "0\n",
      "Скалярное произведение x и z:\n",
      "0\n",
      "Скалярное произведение y и z:\n",
      "0\n",
      "Скалярное произведение x и x:\n",
      "1\n",
      "Скалярное произведение y и y:\n",
      "1\n",
      "Скалярное произведение z и z:\n",
      "1\n"
     ]
    }
   ],
   "source": [
    "x = np.array([1, 0, 0])\n",
    "y = np.array([0, 1, 0])\n",
    "z = np.array([0, 0, 1])\n",
    "print(f'Скалярное произведение x и y:\\n{np.dot(x, y)}')\n",
    "print(f'Скалярное произведение x и z:\\n{np.dot(x, z)}')\n",
    "print(f'Скалярное произведение y и z:\\n{np.dot(y, z)}')\n",
    "\n",
    "print(f'Скалярное произведение x и x:\\n{np.dot(x, x)}')\n",
    "print(f'Скалярное произведение y и y:\\n{np.dot(y, y)}')\n",
    "print(f'Скалярное произведение z и z:\\n{np.dot(z, z)}')"
   ]
  },
  {
   "cell_type": "markdown",
   "metadata": {},
   "source": [
    "Условия выполняются, значит вектора образуют ортонормированный базис в линейном пространстве $\\mathbb{R}^{3}$."
   ]
  },
  {
   "cell_type": "markdown",
   "metadata": {},
   "source": [
    "### __Ответ:__ а) образуют; б) образуют; в) НЕ образуют; г) образуют."
   ]
  }
 ],
 "metadata": {
  "kernelspec": {
   "display_name": "Python 3",
   "language": "python",
   "name": "python3"
  },
  "language_info": {
   "codemirror_mode": {
    "name": "ipython",
    "version": 3
   },
   "file_extension": ".py",
   "mimetype": "text/x-python",
   "name": "python",
   "nbconvert_exporter": "python",
   "pygments_lexer": "ipython3",
   "version": "3.8.5"
  }
 },
 "nbformat": 4,
 "nbformat_minor": 4
}
